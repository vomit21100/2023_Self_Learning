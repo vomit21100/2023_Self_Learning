{
 "cells": [
  {
   "cell_type": "markdown",
   "id": "6d513d74",
   "metadata": {},
   "source": [
    "# 大綱\n",
    "  1. 平均數\n",
    "  2. 中位數\n",
    "  3. 眾數\n",
    "  4. 四分位數\n",
    "  5. 變異數\n",
    "  6. 標準差\n",
    "    "
   ]
  },
  {
   "cell_type": "code",
   "execution_count": null,
   "id": "e0ed34bc",
   "metadata": {},
   "outputs": [],
   "source": []
  }
 ],
 "metadata": {
  "kernelspec": {
   "display_name": "Python 3 (ipykernel)",
   "language": "python",
   "name": "python3"
  },
  "language_info": {
   "codemirror_mode": {
    "name": "ipython",
    "version": 3
   },
   "file_extension": ".py",
   "mimetype": "text/x-python",
   "name": "python",
   "nbconvert_exporter": "python",
   "pygments_lexer": "ipython3",
   "version": "3.11.3"
  }
 },
 "nbformat": 4,
 "nbformat_minor": 5
}
